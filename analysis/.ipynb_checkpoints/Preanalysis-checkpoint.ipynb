{
 "cells": [
  {
   "cell_type": "code",
   "execution_count": 25,
   "metadata": {
    "collapsed": false,
    "deletable": true,
    "editable": true
   },
   "outputs": [],
   "source": [
    "import json\n",
    "import numpy as np\n",
    "from zxcvbn import zxcvbn\n",
    "import matplotlib.pyplot as plt\n",
    "%matplotlib inline"
   ]
  },
  {
   "cell_type": "code",
   "execution_count": 37,
   "metadata": {
    "collapsed": true
   },
   "outputs": [],
   "source": [
    "with open('preanalysis-data.json') as data_file:    \n",
    "    # 1. replace instances of `][` with `]<SPLIT>[`\n",
    "    # (`<SPLIT>` needs to be something that is not present anywhere in the file to begin with)\n",
    "\n",
    "    raw_data = data_file.read()  # we're going to need the entire file in memory\n",
    "    tweaked_data = raw_data.replace('}{', '}<SPLIT>{')\n",
    "\n",
    "    # 2. split the string into an array of strings, using the chosen split indicator\n",
    "\n",
    "    split_data = tweaked_data.split('<SPLIT>')\n",
    "\n",
    "    # 3. load each string individually\n",
    "\n",
    "    parsed_data = [json.loads(bit_of_data) for bit_of_data in split_data]"
   ]
  },
  {
   "cell_type": "code",
   "execution_count": 38,
   "metadata": {
    "collapsed": false,
    "deletable": true,
    "editable": true
   },
   "outputs": [],
   "source": [
    "data = np.array(parsed_data[0])"
   ]
  },
  {
   "cell_type": "code",
   "execution_count": 39,
   "metadata": {
    "collapsed": false
   },
   "outputs": [
    {
     "name": "stdout",
     "output_type": "stream",
     "text": [
      "[ {'rankedPasswords': [{'realScore': 4, '_id': '', 'password': 'silambarasan', 'userScore': 4}, {'realScore': 0, '_id': '', 'password': 'missing', 'userScore': 0}, {'realScore': 1, '_id': '', 'password': 'amber99', 'userScore': 3}, {'realScore': 3, '_id': '', 'password': 'pinkpunk1', 'userScore': 2}, {'realScore': 2, '_id': '', 'password': 'jimjim2', 'userScore': 1}], 'personalities': {'extraversion': 75, 'intellect': 95, 'neuroticism': 50, 'conscientiousness': 90, 'agreeableness': 85}, 'questionnaire': {'password_awareness_level': 5, 'gender': 'female', 'computer_skills_level': 5, 'age': '40-', 'occupation': 'Computer Science and IT-related Occupations', 'handedness': 'right', 'password_awareness': 'yes', 'security_training': 'yes', 'account_hijacking_involvement': 'no'}, 'userAwakeAnswers': [{'question': 'I enjoy watching sports', 'answer': 'Neither Inaccurate nor Accurate', '_id': ''}, {'question': 'I enjoy watching the following sport the most', 'answer': 'Hockey', '_id': ''}, {'question': 'I do not enjoy watching sports', 'answer': 'Neither Inaccurate nor Accurate', '_id': ''}], 'bank-password-selection': {'leak': 'rockyouleak', '_id': '', 'justification': 'The longest one and not a dictionary word', 'password': 'pasteldelimon', 'score': 4}, 'email-password-selection': {'leak': 'rockyouleak', '_id': '', 'justification': \"I would rather the one with the numbers only, but knowing the mail system won't accept it, went to what I thought is the second best\", 'password': '17defebrero', 'score': 4}, '_id': '', '__v': 0, 'bank-password-creation': {'leak': '', '_id': None, 'justification': None, 'password': 'OrangeWater258', 'score': -1}, 'email-password-creation': {'leak': '', '_id': None, 'justification': None, 'password': 'BananaIron729', 'score': -1}}\n",
      " {'rankedPasswords': [{'realScore': 0, '_id': '', 'password': '11111111111111111111111111111111111', 'userScore': 0}, {'realScore': 1, '_id': '', 'password': 'spanky7', 'userScore': 1}, {'realScore': 4, '_id': '', 'password': '2sheepshank2', 'userScore': 4}, {'realScore': 3, '_id': '', 'password': 'squidward1', 'userScore': 3}, {'realScore': 2, '_id': '', 'password': 'HAMTARO', 'userScore': 2}], 'personalities': {'extraversion': 100, 'intellect': 90, 'neuroticism': 45, 'conscientiousness': 60, 'agreeableness': 90}, 'questionnaire': {'password_awareness_level': 1, 'gender': 'male', 'computer_skills_level': 3, 'age': '-20', 'occupation': 'Architecture and Engineering Occupations', 'handedness': 'right', 'password_awareness': 'no', 'security_training': 'no', 'account_hijacking_involvement': 'no'}, 'userAwakeAnswers': [{'question': 'I enjoy watching sports', 'answer': 'Moderately Accurate', '_id': ''}, {'question': 'I enjoy watching the following sport the most', 'answer': 'Hockey', '_id': ''}, {'question': 'I do not enjoy watching sports', 'answer': 'Moderately Accurate', '_id': ''}], 'bank-password-selection': {'leak': 'linkedinleak', '_id': '', 'justification': 'seemed most complex/ hardest to crack', 'password': 'weiliangjin', 'score': 4}, 'email-password-selection': {'leak': 'linkedinleak', '_id': '', 'justification': 'uses numbers and letters, very strong', 'password': 'arifin192002', 'score': 4}, '_id': '', '__v': 0, 'bank-password-creation': {'leak': '', '_id': None, 'justification': None, 'password': '5@v@Na4!', 'score': -1}, 'email-password-creation': {'leak': '', '_id': None, 'justification': None, 'password': 'Slamash0522', 'score': -1}}\n",
      " {'rankedPasswords': [{'realScore': 0, '_id': '', 'password': 'Whatever', 'userScore': 0}, {'realScore': 1, '_id': '', 'password': 'salad13', 'userScore': 1}, {'realScore': 4, '_id': '', 'password': 'Paaseiland2', 'userScore': 4}, {'realScore': 3, '_id': '', 'password': 'Leibeemd3', 'userScore': 3}, {'realScore': 2, '_id': '', 'password': 'pohoeuy', 'userScore': 2}], 'personalities': {'extraversion': 30, 'intellect': 75, 'neuroticism': 55, 'conscientiousness': 95, 'agreeableness': 60}, 'questionnaire': {'password_awareness_level': 5, 'gender': 'male', 'computer_skills_level': 5, 'age': '26-30', 'occupation': 'Other Occupations', 'handedness': 'right', 'password_awareness': 'yes', 'security_training': 'yes', 'account_hijacking_involvement': 'yes'}, 'userAwakeAnswers': [{'question': 'I enjoy watching sports', 'answer': 'Very Accurate', '_id': ''}, {'question': 'I enjoy watching the following sport the most', 'answer': 'Soccer', '_id': ''}, {'question': 'I do not enjoy watching sports', 'answer': 'Very Inaccurate', '_id': ''}], 'bank-password-selection': {'leak': 'linkedinleak', '_id': '', 'justification': 'it looks random', 'password': 'itisgpoda', 'score': 3}, 'email-password-selection': {'leak': 'linkedinleak', '_id': '', 'justification': 'All of them seemed weak!', 'password': 'Ninoman1', 'score': 2}, '_id': '', '__v': 0, 'bank-password-creation': {'leak': '', '_id': None, 'justification': None, 'password': 'hg5dMk~u', 'score': -1}, 'email-password-creation': {'leak': '', '_id': None, 'justification': None, 'password': 'hg5dMk~u', 'score': -1}}\n",
      " {'rankedPasswords': [{'realScore': 0, '_id': '', 'password': 'december', 'userScore': 0}, {'realScore': 1, '_id': '', 'password': 'ladybird', 'userScore': 1}, {'realScore': 2, '_id': '', 'password': 'maryjane1', 'userScore': 2}, {'realScore': 4, '_id': '', 'password': 'shrdlu2010az', 'userScore': 4}, {'realScore': 3, '_id': '', 'password': 'ipodnano1', 'userScore': 3}], 'personalities': {'extraversion': 100, 'intellect': 95, 'neuroticism': 90, 'conscientiousness': 95, 'agreeableness': 95}, 'questionnaire': {'password_awareness_level': 1, 'gender': 'male', 'computer_skills_level': 4, 'age': '20-25', 'occupation': 'Other Occupations', 'handedness': 'right', 'password_awareness': 'no', 'security_training': 'no', 'account_hijacking_involvement': 'yes'}, 'userAwakeAnswers': [{'question': 'I enjoy watching sports', 'answer': 'Moderately Accurate', '_id': ''}, {'question': 'I enjoy watching the following sport the most', 'answer': 'Basketball', '_id': ''}, {'question': 'I dislike enjoy watching sports', 'answer': 'Neither Inaccurate nor Accurate', '_id': ''}], 'bank-password-selection': {'leak': 'rockyouleak', '_id': '', 'justification': 'Difficult to guess', 'password': '2fast2furious', 'score': 3}, 'email-password-selection': {'leak': 'linkedinleak', '_id': '', 'justification': 'Difficult to guess', 'password': 'xzs5fviopwg6', 'score': 4}, '_id': '', '__v': 0, 'bank-password-creation': {'leak': '', '_id': None, 'justification': None, 'password': 'bananaboat25', 'score': -1}, 'email-password-creation': {'leak': '', '_id': None, 'justification': None, 'password': 'bananaboat25', 'score': -1}}\n",
      " {'rankedPasswords': [{'realScore': 0, '_id': '', 'password': 'spiderman', 'userScore': 0}, {'realScore': 1, '_id': '', 'password': 'lovehurts', 'userScore': 1}, {'realScore': 2, '_id': '', 'password': 'iloveandy', 'userScore': 2}, {'realScore': 4, '_id': '', 'password': 'valettab380', 'userScore': 4}, {'realScore': 3, '_id': '', 'password': 'promo2006', 'userScore': 3}], 'personalities': {'extraversion': 75, 'intellect': 85, 'neuroticism': 30, 'conscientiousness': 65, 'agreeableness': 60}, 'questionnaire': {'password_awareness_level': 4, 'gender': 'male', 'computer_skills_level': 5, 'age': '20-25', 'occupation': 'Computer Science and IT-related Occupations', 'handedness': 'right', 'password_awareness': 'yes', 'security_training': 'yes', 'account_hijacking_involvement': 'yes'}, 'userAwakeAnswers': [{'question': 'I enjoy watching sports', 'answer': 'Very Accurate', '_id': ''}, {'question': 'I enjoy watching the following sport the most', 'answer': 'Hockey', '_id': ''}, {'question': 'I dislike enjoy watching sports', 'answer': 'Very Inaccurate', '_id': ''}], 'bank-password-selection': {'leak': 'rockyouleak', '_id': '', 'justification': 'looks easy to remember and relatively strong.', 'password': 'johnterry26', 'score': 3}, 'email-password-selection': {'leak': 'linkedinleak', '_id': '', 'justification': 'looks really strong.', 'password': 'shrdlu2010az', 'score': 4}, '_id': '', '__v': 0, 'bank-password-creation': {'leak': '', '_id': None, 'justification': None, 'password': 'Opt1mu$Pr1m3', 'score': -1}, 'email-password-creation': {'leak': '', '_id': None, 'justification': None, 'password': 'C0mpu73r$3cur1tY', 'score': -1}}\n",
      " {'rankedPasswords': [{'realScore': 1, '_id': '', 'password': 'babyface', 'userScore': 1}, {'realScore': 3, '_id': '', 'password': '2fast2furious', 'userScore': 2}, {'realScore': 0, '_id': '', 'password': 'internet', 'userScore': 0}, {'realScore': 4, '_id': '', 'password': 'chenleixu201', 'userScore': 3}, {'realScore': 2, '_id': '', 'password': 'solecito', 'userScore': 4}], 'personalities': {'extraversion': 70, 'intellect': 80, 'neuroticism': 60, 'conscientiousness': 70, 'agreeableness': 70}, 'questionnaire': {'password_awareness_level': 3, 'gender': 'female', 'computer_skills_level': 3, 'age': '20-25', 'occupation': 'Other Occupations', 'handedness': 'right', 'password_awareness': 'yes', 'security_training': 'no', 'account_hijacking_involvement': 'yes'}, 'userAwakeAnswers': [{'question': 'I enjoy watching sports', 'answer': 'Moderately Accurate', '_id': ''}, {'question': 'I enjoy watching the following sport the most', 'answer': 'Hockey', '_id': ''}, {'question': 'I dislike enjoy watching sports', 'answer': 'Very Inaccurate', '_id': ''}], 'bank-password-selection': {'leak': 'linkedinleak', '_id': '', 'justification': 'I chose this password because there is a combination of random mixed letters and numerical values.', 'password': 'shrdlu2010az', 'score': 4}, 'email-password-selection': {'leak': 'linkedinleak', '_id': '', 'justification': 'I chose this password because of the random letters combination', 'password': 'chenleixu201', 'score': 4}, '_id': '', '__v': 0, 'bank-password-creation': {'leak': '', '_id': None, 'justification': None, 'password': 'Ajdertkl ', 'score': -1}, 'email-password-creation': {'leak': '', '_id': None, 'justification': None, 'password': 'Ajdertkl', 'score': -1}}\n",
      " {'rankedPasswords': [{'realScore': 1, '_id': '', 'password': 'revolution', 'userScore': 0}, {'realScore': 0, '_id': '', 'password': 'cristian', 'userScore': 1}, {'realScore': 3, '_id': '', 'password': '2fast2furious', 'userScore': 3}, {'realScore': 2, '_id': '', 'password': 'scotland1', 'userScore': 2}, {'realScore': 4, '_id': '', 'password': 'shrdlu2010az', 'userScore': 4}], 'personalities': {'extraversion': 60, 'intellect': 100, 'neuroticism': 85, 'conscientiousness': 50, 'agreeableness': 90}, 'questionnaire': {'password_awareness_level': 1, 'gender': 'male', 'computer_skills_level': 5, 'age': '20-25', 'occupation': 'Computer Science and IT-related Occupations', 'handedness': 'right', 'password_awareness': 'no', 'security_training': 'no', 'account_hijacking_involvement': 'no'}, 'userAwakeAnswers': [{'question': 'I enjoy watching sports', 'answer': 'Very Inaccurate', '_id': ''}, {'question': 'I enjoy watching the following sport the most', 'answer': 'Not Applicable', '_id': ''}, {'question': 'I dislike watching sports', 'answer': 'Very Accurate', '_id': ''}], 'bank-password-selection': {'leak': 'linkedinleak', '_id': '', 'justification': 'Higher entropy than other passwords, less likely to be in a rainbow table', 'password': 'dlanddr84041q', 'score': 4}, 'email-password-selection': {'leak': 'linkedinleak', '_id': '', 'justification': 'Higher entropy and less likely to be on a rainbow table, (assuming it is not already in use)', 'password': 'dlanddr84041q', 'score': 4}, '_id': '', '__v': 0, 'bank-password-creation': {'leak': '', '_id': None, 'justification': None, 'password': 'F4T.Ca7_A27', 'score': -1}, 'email-password-creation': {'leak': '', '_id': None, 'justification': None, 'password': 'gen3r41En70py', 'score': -1}}\n",
      " {'rankedPasswords': [{'realScore': 0, '_id': '', 'password': 'slipknot', 'userScore': 0}, {'realScore': 1, '_id': '', 'password': 'lovehurts', 'userScore': 1}, {'realScore': 2, '_id': '', 'password': 'highschoolmusical', 'userScore': 2}, {'realScore': 3, '_id': '', 'password': 'myhusband1', 'userScore': 3}, {'realScore': 4, '_id': '', 'password': 'xzs5fviopwg6', 'userScore': 4}], 'personalities': {'extraversion': 80, 'intellect': 90, 'neuroticism': 35, 'conscientiousness': 65, 'agreeableness': 80}, 'questionnaire': {'password_awareness_level': 3, 'gender': 'male', 'computer_skills_level': 4, 'age': '20-25', 'occupation': 'Computer Science and IT-related Occupations', 'handedness': 'right', 'password_awareness': 'yes', 'security_training': 'yes', 'account_hijacking_involvement': 'yes'}, 'userAwakeAnswers': [{'question': 'I enjoy watching sports', 'answer': 'Very Inaccurate', '_id': ''}, {'question': 'I enjoy watching the following sport the most', 'answer': 'Not Applicable', '_id': ''}, {'question': 'I dislike watching sports', 'answer': 'Very Accurate', '_id': ''}], 'bank-password-selection': {'leak': 'linkedinleak', '_id': '', 'justification': 'It had a combination of letters and numbers and was more random than the alternatives within the set of choices.', 'password': 'valettab380', 'score': 4}, 'email-password-selection': {'leak': 'linkedinleak', '_id': '', 'justification': 'It was the most random combination of letters and numbers within the provided choices.', 'password': 'dlanddr84041q', 'score': 4}, '_id': '', '__v': 0, 'bank-password-creation': {'leak': '', '_id': None, 'justification': None, 'password': 'aqPjsr2!s3201', 'score': -1}, 'email-password-creation': {'leak': '', '_id': None, 'justification': None, 'password': 'sj3SjK23@23', 'score': -1}}\n",
      " {'rankedPasswords': [{'realScore': 0, '_id': '', 'password': 'pictures', 'userScore': 0}, {'realScore': 2, '_id': '', 'password': 'beachbabe', 'userScore': 1}, {'realScore': 1, '_id': '', 'password': 'playboy69', 'userScore': 2}, {'realScore': 3, '_id': '', 'password': 'lilwayne2', 'userScore': 3}, {'realScore': 4, '_id': '', 'password': 'valettab380', 'userScore': 4}], 'personalities': {'extraversion': 35, 'intellect': 65, 'neuroticism': 50, 'conscientiousness': 55, 'agreeableness': 30}, 'questionnaire': {'password_awareness_level': 1, 'gender': 'male', 'computer_skills_level': 4, 'age': '20-25', 'occupation': 'Computer Science and IT-related Occupations', 'handedness': 'right', 'password_awareness': 'no', 'security_training': 'no', 'account_hijacking_involvement': 'no'}, 'userAwakeAnswers': [{'question': 'I enjoy watching sports', 'answer': 'Moderately Inaccurate', '_id': ''}, {'question': 'I enjoy watching the following sport the most', 'answer': 'Hockey', '_id': ''}, {'question': 'I dislike watching sports', 'answer': 'Very Accurate', '_id': ''}], 'bank-password-selection': {'leak': 'linkedinleak', '_id': '', 'justification': \"It's a random set of characters, and it seemed to be the most secure option\", 'password': 'xzs5fviopwg6', 'score': 4}, 'email-password-selection': {'leak': 'linkedinleak', '_id': '', 'justification': 'It is a random set of characters and seemed to be the most secure', 'password': 'shrdlu2010az', 'score': 4}, '_id': '', '__v': 0, 'bank-password-creation': {'leak': '', '_id': None, 'justification': None, 'password': 'Hello Dillon, how are you today?', 'score': -1}, 'email-password-creation': {'leak': '', '_id': None, 'justification': None, 'password': 'Dillon, this is your email password', 'score': -1}}\n",
      " {'rankedPasswords': [{'realScore': 3, '_id': '', 'password': 'promo2006', 'userScore': 2}, {'realScore': 0, '_id': '', 'password': 'christopher', 'userScore': 0}, {'realScore': 1, '_id': '', 'password': 'babyface', 'userScore': 1}, {'realScore': 4, '_id': '', 'password': 'chenleixu201', 'userScore': 4}, {'realScore': 2, '_id': '', 'password': 'babygirl7', 'userScore': 3}], 'personalities': {'extraversion': 95, 'intellect': 70, 'neuroticism': 50, 'conscientiousness': 90, 'agreeableness': 70}, 'questionnaire': {'password_awareness_level': 3, 'gender': 'female', 'computer_skills_level': 5, 'age': '20-25', 'occupation': 'Other Occupations', 'handedness': 'right', 'password_awareness': 'yes', 'security_training': 'yes', 'account_hijacking_involvement': 'yes'}, 'userAwakeAnswers': [{'question': 'I enjoy watching sports', 'answer': 'Very Accurate', '_id': ''}, {'question': 'I enjoy watching the following sport the most', 'answer': 'Hockey', '_id': ''}, {'question': 'I dislike watching sports', 'answer': 'Very Inaccurate', '_id': ''}], 'bank-password-selection': {'leak': 'rockyouleak', '_id': '', 'justification': 'I chose this password because it has a combination of numbers in between each word', 'password': '2fast2furious', 'score': 3}, 'email-password-selection': {'leak': 'linkedinleak', '_id': '', 'justification': 'I chose this password because it has a combination of numbers and mixed letters', 'password': 'dlanddr84041q', 'score': 4}, '_id': '', '__v': 0, 'bank-password-creation': {'leak': '', '_id': None, 'justification': None, 'password': 'Y@cb7wYbY!', 'score': -1}, 'email-password-creation': {'leak': '', '_id': None, 'justification': None, 'password': 'Y@cb7wYbY!', 'score': -1}}]\n"
     ]
    }
   ],
   "source": [
    "print(data)"
   ]
  },
  {
   "cell_type": "code",
   "execution_count": 40,
   "metadata": {
    "collapsed": false,
    "scrolled": true
   },
   "outputs": [
    {
     "name": "stdout",
     "output_type": "stream",
     "text": [
      "{\n",
      "    \"rankedPasswords\": [\n",
      "        {\n",
      "            \"realScore\": 4,\n",
      "            \"_id\": \"\",\n",
      "            \"password\": \"silambarasan\",\n",
      "            \"userScore\": 4\n",
      "        },\n",
      "        {\n",
      "            \"realScore\": 0,\n",
      "            \"_id\": \"\",\n",
      "            \"password\": \"missing\",\n",
      "            \"userScore\": 0\n",
      "        },\n",
      "        {\n",
      "            \"realScore\": 1,\n",
      "            \"_id\": \"\",\n",
      "            \"password\": \"amber99\",\n",
      "            \"userScore\": 3\n",
      "        },\n",
      "        {\n",
      "            \"realScore\": 3,\n",
      "            \"_id\": \"\",\n",
      "            \"password\": \"pinkpunk1\",\n",
      "            \"userScore\": 2\n",
      "        },\n",
      "        {\n",
      "            \"realScore\": 2,\n",
      "            \"_id\": \"\",\n",
      "            \"password\": \"jimjim2\",\n",
      "            \"userScore\": 1\n",
      "        }\n",
      "    ],\n",
      "    \"personalities\": {\n",
      "        \"extraversion\": 75,\n",
      "        \"intellect\": 95,\n",
      "        \"neuroticism\": 50,\n",
      "        \"conscientiousness\": 90,\n",
      "        \"agreeableness\": 85\n",
      "    },\n",
      "    \"questionnaire\": {\n",
      "        \"password_awareness_level\": 5,\n",
      "        \"gender\": \"female\",\n",
      "        \"computer_skills_level\": 5,\n",
      "        \"age\": \"40-\",\n",
      "        \"occupation\": \"Computer Science and IT-related Occupations\",\n",
      "        \"handedness\": \"right\",\n",
      "        \"password_awareness\": \"yes\",\n",
      "        \"security_training\": \"yes\",\n",
      "        \"account_hijacking_involvement\": \"no\"\n",
      "    },\n",
      "    \"userAwakeAnswers\": [\n",
      "        {\n",
      "            \"question\": \"I enjoy watching sports\",\n",
      "            \"answer\": \"Neither Inaccurate nor Accurate\",\n",
      "            \"_id\": \"\"\n",
      "        },\n",
      "        {\n",
      "            \"question\": \"I enjoy watching the following sport the most\",\n",
      "            \"answer\": \"Hockey\",\n",
      "            \"_id\": \"\"\n",
      "        },\n",
      "        {\n",
      "            \"question\": \"I do not enjoy watching sports\",\n",
      "            \"answer\": \"Neither Inaccurate nor Accurate\",\n",
      "            \"_id\": \"\"\n",
      "        }\n",
      "    ],\n",
      "    \"bank-password-selection\": {\n",
      "        \"leak\": \"rockyouleak\",\n",
      "        \"_id\": \"\",\n",
      "        \"justification\": \"The longest one and not a dictionary word\",\n",
      "        \"password\": \"pasteldelimon\",\n",
      "        \"score\": 4\n",
      "    },\n",
      "    \"email-password-selection\": {\n",
      "        \"leak\": \"rockyouleak\",\n",
      "        \"_id\": \"\",\n",
      "        \"justification\": \"I would rather the one with the numbers only, but knowing the mail system won't accept it, went to what I thought is the second best\",\n",
      "        \"password\": \"17defebrero\",\n",
      "        \"score\": 4\n",
      "    },\n",
      "    \"_id\": \"\",\n",
      "    \"__v\": 0,\n",
      "    \"bank-password-creation\": {\n",
      "        \"leak\": \"\",\n",
      "        \"_id\": null,\n",
      "        \"justification\": null,\n",
      "        \"password\": \"OrangeWater258\",\n",
      "        \"score\": -1\n",
      "    },\n",
      "    \"email-password-creation\": {\n",
      "        \"leak\": \"\",\n",
      "        \"_id\": null,\n",
      "        \"justification\": null,\n",
      "        \"password\": \"BananaIron729\",\n",
      "        \"score\": -1\n",
      "    }\n",
      "}\n"
     ]
    }
   ],
   "source": [
    "# pretty print\n",
    "print(json.dumps(data[0], indent=4))"
   ]
  },
  {
   "cell_type": "code",
   "execution_count": 41,
   "metadata": {
    "collapsed": false
   },
   "outputs": [
    {
     "name": "stdout",
     "output_type": "stream",
     "text": [
      "{'extraversion': 75, 'intellect': 95, 'neuroticism': 50, 'conscientiousness': 90, 'agreeableness': 85}\n"
     ]
    }
   ],
   "source": [
    "# get singular data\n",
    "print(data[0]['personalities'])"
   ]
  },
  {
   "cell_type": "code",
   "execution_count": 42,
   "metadata": {
    "collapsed": false
   },
   "outputs": [
    {
     "name": "stdout",
     "output_type": "stream",
     "text": [
      "{'extraversion': [75, 100, 30, 100, 75, 70, 60, 80, 35, 95], 'intellect': [95, 90, 75, 95, 85, 80, 100, 90, 65, 70], 'neuroticism': [50, 45, 55, 90, 30, 60, 85, 35, 50, 50], 'conscientiousness': [90, 60, 95, 95, 65, 70, 50, 65, 55, 90], 'agreeableness': [85, 90, 60, 95, 60, 70, 90, 80, 30, 70]}\n"
     ]
    }
   ],
   "source": [
    "# put all personalities into a dictionary to graph\n",
    "personalities = { \"extraversion\": [], \"intellect\": [], \"neuroticism\": [], \"conscientiousness\": [], \"agreeableness\": [] }\n",
    "\n",
    "for i in range(len(data)):\n",
    "    personalities[\"extraversion\"].append(data[i][\"personalities\"][\"extraversion\"])\n",
    "    personalities[\"intellect\"].append(data[i][\"personalities\"][\"intellect\"])\n",
    "    personalities[\"neuroticism\"].append(data[i][\"personalities\"][\"neuroticism\"])\n",
    "    personalities[\"conscientiousness\"].append(data[i][\"personalities\"][\"conscientiousness\"])\n",
    "    personalities[\"agreeableness\"].append(data[i][\"personalities\"][\"agreeableness\"])\n",
    "    \n",
    "print(personalities)"
   ]
  },
  {
   "cell_type": "code",
   "execution_count": 46,
   "metadata": {
    "collapsed": false
   },
   "outputs": [
    {
     "name": "stdout",
     "output_type": "stream",
     "text": [
      "{'leak': '', '_id': None, 'justification': None, 'password': 'OrangeWater258', 'score': 3}\n",
      "{'leak': '', '_id': None, 'justification': None, 'password': 'BananaIron729', 'score': 3}\n",
      "{'leak': '', '_id': None, 'justification': None, 'password': '5@v@Na4!', 'score': 2}\n",
      "{'leak': '', '_id': None, 'justification': None, 'password': 'Slamash0522', 'score': 4}\n",
      "{'leak': '', '_id': None, 'justification': None, 'password': 'hg5dMk~u', 'score': 2}\n",
      "{'leak': '', '_id': None, 'justification': None, 'password': 'hg5dMk~u', 'score': 2}\n",
      "{'leak': '', '_id': None, 'justification': None, 'password': 'bananaboat25', 'score': 3}\n",
      "{'leak': '', '_id': None, 'justification': None, 'password': 'bananaboat25', 'score': 3}\n",
      "{'leak': '', '_id': None, 'justification': None, 'password': 'Opt1mu$Pr1m3', 'score': 4}\n",
      "{'leak': '', '_id': None, 'justification': None, 'password': 'C0mpu73r$3cur1tY', 'score': 4}\n",
      "{'leak': '', '_id': None, 'justification': None, 'password': 'Ajdertkl ', 'score': 3}\n",
      "{'leak': '', '_id': None, 'justification': None, 'password': 'Ajdertkl', 'score': 2}\n",
      "{'leak': '', '_id': None, 'justification': None, 'password': 'F4T.Ca7_A27', 'score': 4}\n",
      "{'leak': '', '_id': None, 'justification': None, 'password': 'gen3r41En70py', 'score': 3}\n",
      "{'leak': '', '_id': None, 'justification': None, 'password': 'aqPjsr2!s3201', 'score': 4}\n",
      "{'leak': '', '_id': None, 'justification': None, 'password': 'sj3SjK23@23', 'score': 4}\n",
      "{'leak': '', '_id': None, 'justification': None, 'password': 'Hello Dillon, how are you today?', 'score': 4}\n",
      "{'leak': '', '_id': None, 'justification': None, 'password': 'Dillon, this is your email password', 'score': 4}\n",
      "{'leak': '', '_id': None, 'justification': None, 'password': 'Y@cb7wYbY!', 'score': 3}\n",
      "{'leak': '', '_id': None, 'justification': None, 'password': 'Y@cb7wYbY!', 'score': 3}\n"
     ]
    }
   ],
   "source": [
    "createdPasswords = { \"bank\": [], \"email\": [] }\n",
    "\n",
    "for i in range(len(data)):\n",
    "    # remove whitespace from front and back\n",
    "    # data[i]['bank-password-creation']['score'] = zxcvbn(data[i]['bank-password-creation']['password'].strip())['score']\n",
    "    # data[i]['email-password-creation']['score'] = zxcvbn(data[i]['email-password-creation']['password'].strip())['score']\n",
    "    data[i]['bank-password-creation']['score'] = zxcvbn(data[i]['bank-password-creation']['password'])['score']\n",
    "    data[i]['email-password-creation']['score'] = zxcvbn(data[i]['email-password-creation']['password'])['score']\n",
    "    \n",
    "    createdPasswords[\"bank\"].append(data[i]['bank-password-creation'][\"score\"])\n",
    "    createdPasswords[\"email\"].append(data[i]['email-password-creation'][\"score\"])\n",
    "    \n",
    "    print(data[i]['bank-password-creation'])\n",
    "    print(data[i]['email-password-creation'])"
   ]
  },
  {
   "cell_type": "code",
   "execution_count": 47,
   "metadata": {
    "collapsed": false
   },
   "outputs": [
    {
     "name": "stdout",
     "output_type": "stream",
     "text": [
      "{'bank': [3, 2, 2, 3, 4, 3, 4, 4, 4, 3], 'email': [3, 4, 2, 3, 4, 2, 3, 4, 4, 3]}\n"
     ]
    }
   ],
   "source": [
    "print(createdPasswords)"
   ]
  },
  {
   "cell_type": "code",
   "execution_count": 79,
   "metadata": {
    "collapsed": false
   },
   "outputs": [
    {
     "name": "stdout",
     "output_type": "stream",
     "text": [
      "[[  2   4   4   3   3   4   4   3   2   3]\n",
      " [ 30  35  60  70  75  75  80  95 100 100]]\n"
     ]
    }
   ],
   "source": [
    "# put the arrays together\n",
    "extraversion_bank = np.array([createdPasswords[\"bank\"], personalities[\"extraversion\"]])\n",
    "extraversion_bank = extraversion_bank.T\n",
    "\n",
    "# sort by first column then by second column\n",
    "extraversion_bank = extraversion_bank[extraversion_bank[:,0].argsort(kind='mergesort')]\n",
    "extraversion_bank = extraversion_bank[extraversion_bank[:,1].argsort(kind='mergesort')]\n",
    "\n",
    "print(extraversion_bank.T)"
   ]
  },
  {
   "cell_type": "code",
   "execution_count": 80,
   "metadata": {
    "collapsed": false
   },
   "outputs": [
    {
     "data": {
      "image/png": "[encoded data removed]",
      "text/plain": [
       "<matplotlib.figure.Figure at 0x163c02dfbe0>"
      ]
     },
     "metadata": {},
     "output_type": "display_data"
    }
   ],
   "source": [
    "# plt.plot(extraversion_bank_created_passwords.T[1], extraversion_bank_created_passwords.T[0], \"ro\")\n",
    "plt.plot(extraversion_bank.T[1], extraversion_bank.T[0])\n",
    "plt.ylabel('Bank created password strength')\n",
    "plt.xlabel('Extraversion')\n",
    "plt.show()"
   ]
  },
  {
   "cell_type": "code",
   "execution_count": 81,
   "metadata": {
    "collapsed": false
   },
   "outputs": [
    {
     "name": "stdout",
     "output_type": "stream",
     "text": [
      "[[  2   4   3   2   3   4   4   3   3   4]\n",
      " [ 30  35  60  70  75  75  80  95 100 100]]\n"
     ]
    }
   ],
   "source": [
    "# put the arrays together\n",
    "extraversion_email = np.array([createdPasswords[\"email\"], personalities[\"extraversion\"]])\n",
    "extraversion_email = extraversion_email.T\n",
    "\n",
    "# sort by first column then by second column\n",
    "extraversion_email = extraversion_email[extraversion_email[:,0].argsort(kind='mergesort')]\n",
    "extraversion_email = extraversion_email[extraversion_email[:,1].argsort(kind='mergesort')]\n",
    "\n",
    "print(extraversion_email.T)"
   ]
  },
  {
   "cell_type": "code",
   "execution_count": 82,
   "metadata": {
    "collapsed": false
   },
   "outputs": [
    {
     "data": {
      "image/png": "[encoded data removed]",
      "text/plain": [
       "<matplotlib.figure.Figure at 0x163c02bb978>"
      ]
     },
     "metadata": {},
     "output_type": "display_data"
    }
   ],
   "source": [
    "plt.plot(extraversion_email.T[1], extraversion_email.T[0])\n",
    "plt.ylabel('Email created password strength')\n",
    "plt.xlabel('Extraversion')\n",
    "plt.show()"
   ]
  },
  {
   "cell_type": "code",
   "execution_count": null,
   "metadata": {
    "collapsed": true
   },
   "outputs": [],
   "source": [
    "# put the arrays together\n",
    "intellect_bank = np.array([createdPasswords[\"bank\"], personalities[\"intellect\"]])\n",
    "intellect_bank = intellect_bank.T\n",
    "\n",
    "# sort by first column then by second column\n",
    "intellect_bank = intellect_bank[intellect_bank[:,0].argsort(kind='mergesort')]\n",
    "intellect_bank = intellect_bank[intellect_bank[:,1].argsort(kind='mergesort')]\n",
    "\n",
    "print(intellect_bank.T)"
   ]
  }
 ],
 "metadata": {
  "kernelspec": {
   "display_name": "Python 3",
   "language": "python",
   "name": "python3"
  },
  "language_info": {
   "codemirror_mode": {
    "name": "ipython",
    "version": 3
   },
   "file_extension": ".py",
   "mimetype": "text/x-python",
   "name": "python",
   "nbconvert_exporter": "python",
   "pygments_lexer": "ipython3",
   "version": "3.5.2"
  }
 },
 "nbformat": 4,
 "nbformat_minor": 2
}
